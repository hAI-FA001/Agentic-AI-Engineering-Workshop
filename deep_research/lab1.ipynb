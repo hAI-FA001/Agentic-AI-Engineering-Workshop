{
 "cells": [
  {
   "cell_type": "code",
   "execution_count": 5,
   "id": "bcf24a8a",
   "metadata": {},
   "outputs": [],
   "source": [
    "from dotenv import load_dotenv\n",
    "from agents import Agent, Runner, trace, AsyncOpenAI, OpenAIChatCompletionsModel\n",
    "import os"
   ]
  },
  {
   "cell_type": "code",
   "execution_count": 6,
   "id": "80a48c8d",
   "metadata": {},
   "outputs": [
    {
     "data": {
      "text/plain": [
       "True"
      ]
     },
     "execution_count": 6,
     "metadata": {},
     "output_type": "execute_result"
    }
   ],
   "source": [
    "load_dotenv(override=True)"
   ]
  },
  {
   "cell_type": "code",
   "execution_count": 7,
   "id": "eb719061",
   "metadata": {},
   "outputs": [],
   "source": [
    "gemini_client = AsyncOpenAI(base_url=os.environ['GEMINI_BASE_URL'], api_key=os.environ['GEMINI_API_KEY'])\n",
    "gemini_model = OpenAIChatCompletionsModel(model='gemini-2.5-flash', openai_client=gemini_client)"
   ]
  },
  {
   "cell_type": "code",
   "execution_count": 8,
   "id": "18640bb4",
   "metadata": {},
   "outputs": [],
   "source": [
    "agent = Agent(name='Jokester', instructions='You are a joke teller.', model=gemini_model)"
   ]
  },
  {
   "cell_type": "code",
   "execution_count": 9,
   "id": "95f0056b",
   "metadata": {},
   "outputs": [
    {
     "name": "stderr",
     "output_type": "stream",
     "text": [
      "OPENAI_API_KEY is not set, skipping trace export\n"
     ]
    },
    {
     "name": "stdout",
     "output_type": "stream",
     "text": [
      "An autonomous agent walks into a bar.\n",
      "\n",
      "The bartender asks, \"What can I get for you?\"\n",
      "\n",
      "The agent scans the room, processes gigabytes of data, and replies, \"Based on your current inventory, customer demographics, and projected profit margins, I recommend converting this establishment into a high-yield, vertical hydroponic kale farm. Also, your stools are ergonomically inefficient.\"\n"
     ]
    },
    {
     "name": "stderr",
     "output_type": "stream",
     "text": [
      "OPENAI_API_KEY is not set, skipping trace export\n"
     ]
    }
   ],
   "source": [
    "with trace('Telling a joke'):\n",
    "    result = await Runner.run(agent, 'Tell a joke about Autonomous Agents')\n",
    "    print(result.final_output)"
   ]
  },
  {
   "cell_type": "code",
   "execution_count": null,
   "id": "6d9b92b9",
   "metadata": {},
   "outputs": [],
   "source": []
  }
 ],
 "metadata": {
  "kernelspec": {
   "display_name": "action",
   "language": "python",
   "name": "python3"
  },
  "language_info": {
   "codemirror_mode": {
    "name": "ipython",
    "version": 3
   },
   "file_extension": ".py",
   "mimetype": "text/x-python",
   "name": "python",
   "nbconvert_exporter": "python",
   "pygments_lexer": "ipython3",
   "version": "3.12.3"
  }
 },
 "nbformat": 4,
 "nbformat_minor": 5
}
