{
 "cells": [
  {
   "cell_type": "code",
   "execution_count": 22,
   "id": "fbffc8cf",
   "metadata": {},
   "outputs": [
    {
     "data": {
      "text/plain": [
       "True"
      ]
     },
     "execution_count": 22,
     "metadata": {},
     "output_type": "execute_result"
    }
   ],
   "source": [
    "from agents import Agent, WebSearchTool, trace, Runner, function_tool, AsyncOpenAI, OpenAIChatCompletionsModel\n",
    "from agents.model_settings import ModelSettings\n",
    "\n",
    "from pydantic import BaseModel\n",
    "\n",
    "from dotenv import load_dotenv\n",
    "import asyncio\n",
    "import os\n",
    "\n",
    "from IPython.display import display, Markdown\n",
    "from pprint import pprint\n",
    "\n",
    "import requests\n",
    "\n",
    "load_dotenv(override=True)"
   ]
  },
  {
   "cell_type": "markdown",
   "id": "4ddd3a0c",
   "metadata": {},
   "source": [
    "# OpenAI Tools\n",
    "- `WebSearchTool`: search the web\n",
    "- `FileSearchTool`: retrieve from OpenAI vector stores\n",
    "- `ComputerTool`: automate computer tasks"
   ]
  },
  {
   "cell_type": "markdown",
   "id": "fec56cd5",
   "metadata": {},
   "source": [
    "# Agents to Make\n",
    "- Search Agent: search online\n",
    "- Planner Agent: come up with searches based on user's query\n",
    "- Report Agent: make a report\n",
    "- Push Agent: send a notification to the user's phone with a summary"
   ]
  },
  {
   "cell_type": "code",
   "execution_count": 23,
   "id": "32edffd9",
   "metadata": {},
   "outputs": [],
   "source": [
    "gemini_client = AsyncOpenAI(base_url=os.environ['GEMINI_BASE_URL'], api_key=os.environ['GEMINI_API_KEY'])\n",
    "gemini_model = OpenAIChatCompletionsModel(model='gemini-2.5-flash-lite', openai_client=gemini_client)"
   ]
  },
  {
   "cell_type": "markdown",
   "id": "b483e4cf",
   "metadata": {},
   "source": [
    "#### Dummy Tools (Avoid Hosted Tools)"
   ]
  },
  {
   "cell_type": "code",
   "execution_count": 24,
   "id": "e79b83d7",
   "metadata": {},
   "outputs": [],
   "source": [
    "# custom dummy tools to avoid hosted tools / pricing\n",
    "\n",
    "@function_tool\n",
    "async def web_search_tool(query: str):\n",
    "    \"\"\"Surf the web based on the given query\n",
    "    \n",
    "    Args:\n",
    "        query: The user's query\n",
    "    \"\"\"\n",
    "\n",
    "    return \"\"\"\n",
    "    Search Result 1: AutoGen\n",
    "    Search Result 2: LangChain\n",
    "    Search Result 3: LangGraph\n",
    "    Search Result 4: CrewAI\n",
    "    Search Result 5: OpenAI Agents SDK\n",
    "    \"\"\""
   ]
  },
  {
   "cell_type": "markdown",
   "id": "b901d64a",
   "metadata": {},
   "source": [
    "#### Agent 1 - Search Agent"
   ]
  },
  {
   "cell_type": "code",
   "execution_count": 25,
   "id": "6fd987e0",
   "metadata": {},
   "outputs": [],
   "source": [
    "INSTRUCTIONS = \"\"\"You are a research assistant. Given a search term, you search the web for that term and \\\n",
    "produce a concise summary of the results. The summary must be 2-3 paragraphs and less than 300 words. \\\n",
    "Capture the main points. Write succint, no need to have complete sentences or good grammar. This will be \\\n",
    "consumed by someone synthesizing a report, so it's vital you capture the essence and ignore any fluff. Do \\\n",
    "not include any additional commentary other than the summary itself.\"\"\"\n",
    "\n",
    "search_agent = Agent(\n",
    "    name='Search Agent',\n",
    "    instructions=INSTRUCTIONS,\n",
    "    # tools=[WebSearchTool(search_context_size='low')],\n",
    "    tools=[web_search_tool],\n",
    "    model=gemini_model,\n",
    "    model_settings=ModelSettings(tool_choice='required'),\n",
    ")"
   ]
  },
  {
   "cell_type": "code",
   "execution_count": 26,
   "id": "86d12fd7",
   "metadata": {},
   "outputs": [
    {
     "name": "stderr",
     "output_type": "stream",
     "text": [
      "OPENAI_API_KEY is not set, skipping trace export\n"
     ]
    },
    {
     "data": {
      "text/markdown": [
       "As of July 2025, several AI agent frameworks are gaining significant traction and demonstrating success in the field. AutoGen, developed by Microsoft, is frequently cited for its innovative approach to multi-agent conversations, allowing for complex task orchestration and problem-solving through the collaboration of multiple AI agents. Its flexibility and ease of use have made it a popular choice for researchers and developers looking to build sophisticated AI systems.\n",
       "\n",
       "LangChain and its extension, LangGraph, continue to be dominant forces. LangChain offers a comprehensive toolkit for developing applications powered by large language models, emphasizing modularity and composability. LangGraph builds upon this foundation, specifically focusing on enabling the creation of agents that can exhibit more complex, stateful, and cyclical behaviors. CrewAI is also emerging as a strong contender, praised for its agent-centric design that facilitates the creation of collaborative AI teams capable of executing intricate workflows. The OpenAI Agents SDK is also noteworthy, providing developers direct access to OpenAI's advanced agent capabilities, streamlining the integration of powerful AI functionalities into applications."
      ],
      "text/plain": [
       "<IPython.core.display.Markdown object>"
      ]
     },
     "metadata": {},
     "output_type": "display_data"
    }
   ],
   "source": [
    "message = 'What are the most popular and successful AI Agent frameworks in July 2025'\n",
    "with trace('Search'):\n",
    "    result = await Runner.run(search_agent, message)\n",
    "\n",
    "display(Markdown(result.final_output))"
   ]
  },
  {
   "cell_type": "markdown",
   "id": "79b60335",
   "metadata": {},
   "source": [
    "#### Agent 2 - Planner Agent"
   ]
  },
  {
   "cell_type": "code",
   "execution_count": 27,
   "id": "a14bc9f8",
   "metadata": {},
   "outputs": [],
   "source": [
    "HOW_MANY_SEARCHES = 5\n",
    "INSTRUCTIONS = f\"You are a helpful research assistant. Given a query, come up with a set of web searches \\\n",
    "to perform to best answer the query. Ouptut {HOW_MANY_SEARCHES} terms to query for.\"\n",
    "\n",
    "# structured outputs\n",
    "class WebSearchItem(BaseModel):\n",
    "    reason: str  # force the model to tell us its thinking\n",
    "    \"Your reasoning for why this search is important to the query\"\n",
    "\n",
    "    query: str\n",
    "    \"The search term to use for the web search\"\n",
    "\n",
    "class WebSearchPlan(BaseModel):\n",
    "    searches: list[WebSearchItem]\n",
    "    \"\"\"A list of web searches to perform to best answer the query\"\"\"\n",
    "\n",
    "planner_agent = Agent(\n",
    "    name=\"PlannerAgent\",\n",
    "    instructions=INSTRUCTIONS,\n",
    "    model=gemini_model,\n",
    "    output_type=WebSearchPlan,\n",
    ")"
   ]
  },
  {
   "cell_type": "code",
   "execution_count": 28,
   "id": "d6763271",
   "metadata": {},
   "outputs": [
    {
     "name": "stdout",
     "output_type": "stream",
     "text": [
      "WebSearchPlan(searches=[WebSearchItem(reason='This is a direct query to find the most popular and successful AI agent frameworks for the specified month and year.', query='top AI agent frameworks July 2025'), WebSearchItem(reason='Understanding market share will indicate which frameworks are most adopted and likely considered successful.', query='AI agent framework market share 2025'), WebSearchItem(reason='Usage statistics provide concrete data on the popularity and adoption rates of different frameworks.', query='AI agent framework usage statistics 2025'), WebSearchItem(reason='This search aims to identify platforms that are built upon or integrate popular AI agent frameworks, indirectly indicating framework success.', query='most used AI agent platforms 2025'), WebSearchItem(reason='Benchmarks can highlight performance and capabilities, which are key factors in determining the success of a framework.', query='AI agent framework benchmarks 2025')])\n"
     ]
    }
   ],
   "source": [
    "message = \"What are the most popular and successful AI Agent frameworks in July 2025\"\n",
    "\n",
    "with trace(\"Search\"):\n",
    "    result = await Runner.run(planner_agent, message)\n",
    "    pprint(result.final_output)"
   ]
  },
  {
   "cell_type": "code",
   "execution_count": 29,
   "id": "edd73803",
   "metadata": {},
   "outputs": [
    {
     "name": "stdout",
     "output_type": "stream",
     "text": [
      "This is a direct query to find the most popular and successful AI agent frameworks for the specified month and year.\n",
      "top AI agent frameworks July 2025\n",
      "\n",
      "Understanding market share will indicate which frameworks are most adopted and likely considered successful.\n",
      "AI agent framework market share 2025\n",
      "\n",
      "Usage statistics provide concrete data on the popularity and adoption rates of different frameworks.\n",
      "AI agent framework usage statistics 2025\n",
      "\n",
      "This search aims to identify platforms that are built upon or integrate popular AI agent frameworks, indirectly indicating framework success.\n",
      "most used AI agent platforms 2025\n",
      "\n",
      "Benchmarks can highlight performance and capabilities, which are key factors in determining the success of a framework.\n",
      "AI agent framework benchmarks 2025\n",
      "\n"
     ]
    }
   ],
   "source": [
    "for search in result.final_output.searches:\n",
    "    print(search.reason)\n",
    "    print(search.query)\n",
    "    print()"
   ]
  },
  {
   "cell_type": "markdown",
   "id": "8a4c7791",
   "metadata": {},
   "source": [
    "#### Agent 3 - Writer Agent"
   ]
  },
  {
   "cell_type": "code",
   "execution_count": 30,
   "id": "1026df07",
   "metadata": {},
   "outputs": [],
   "source": [
    "INSTRUCTIONS = \"\"\"\n",
    "You are a senior researcher tasked with writing a cohesive report for a research query.\n",
    "You will be provided with the original query and some initial research done by a research assistant.\n",
    "\n",
    "You should first come up with an outline for the report that describes the structure and flow of the report.\n",
    "Then, generate the report and return that as your final output.\n",
    "\n",
    "The final output should be in markdown format and it should be length and detailed.\n",
    "Aim for 5-10 pages of content, at least 1000 words.\n",
    "\"\"\"\n",
    "\n",
    "class ReportData(BaseModel):\n",
    "    short_summary: str\n",
    "    \"\"\"A short 2-3 sentence summary of the findings\"\"\"\n",
    "\n",
    "    markdown_report: str\n",
    "    \"\"\"The final report\"\"\"\n",
    "\n",
    "    follow_up_questions: list[str]\n",
    "    \"\"\"Suggested topics to research further\"\"\"\n",
    "\n",
    "writer_agent = Agent(\n",
    "    name='WriterAgent',\n",
    "    instructions=INSTRUCTIONS,\n",
    "    model=gemini_model,\n",
    "    output_type=ReportData\n",
    ")"
   ]
  },
  {
   "cell_type": "markdown",
   "id": "483edfd0",
   "metadata": {},
   "source": [
    "#### Agent 4 - Push Notification Agent"
   ]
  },
  {
   "cell_type": "code",
   "execution_count": 31,
   "id": "d38a4e65",
   "metadata": {},
   "outputs": [],
   "source": [
    "# https://pushover.net\n",
    "\n",
    "pushover_user = ...\n",
    "pushover_token = ...\n",
    "pushover_url = ...\n",
    "\n",
    "@function_tool\n",
    "def push(message: str):\n",
    "    \"\"\"Send a push notification with this brief message\"\"\"\n",
    "    payload = {\"user\": pushover_user, \"token\": pushover_token, \"message\": message}\n",
    "    requests.post(pushover_url, data=payload)\n",
    "    return {\"status\": \"success\"}\n",
    "\n",
    "# dummy tool to avoid tools with pricing\n",
    "@function_tool\n",
    "def push_tool(message: str):\n",
    "    \"\"\"Send a push notification with this brief message\"\"\"\n",
    "    print(f'Dummy tool called to send push notification with message: {message}')\n",
    "    return {\"status\": \"success\"}"
   ]
  },
  {
   "cell_type": "code",
   "execution_count": 32,
   "id": "6975ccea",
   "metadata": {},
   "outputs": [],
   "source": [
    "INSTRUCTIONS = \"\"\"You are a member of a research team and will be provided with a short summary of a report.\n",
    "When you receive the report summary, you send a push notification to the user using your tool, informing them that research is complete,\n",
    "and including the report summary you received.\"\"\"\n",
    "\n",
    "push_agent = Agent(\n",
    "    name='push_agent',\n",
    "    instructions=INSTRUCTIONS,\n",
    "    tools=[push_tool],\n",
    "    model=gemini_model,\n",
    "    model_settings=ModelSettings(tool_choice=['required'])\n",
    ")"
   ]
  },
  {
   "cell_type": "markdown",
   "id": "ea7c9726",
   "metadata": {},
   "source": [
    "#### Plan and Execute Functions"
   ]
  },
  {
   "cell_type": "code",
   "execution_count": 33,
   "id": "6a381814",
   "metadata": {},
   "outputs": [],
   "source": [
    "async def plan_searches(query: str):\n",
    "    \"\"\"Use the planner_agent to plan which searches to run for the query\"\"\"\n",
    "    \n",
    "    print('Planning searches...')\n",
    "    result = await Runner.run(planner_agent, f'Query: {query}')\n",
    "    \n",
    "    print(f'Will perform {len(result.final_output.searches)} searches')\n",
    "    \n",
    "    return result.final_output\n",
    "\n",
    "async def perform_searches(search_plan: WebSearchPlan):\n",
    "    \"\"\"Call search() for each item in the search plan\"\"\"\n",
    "    \n",
    "    print('Searching...')\n",
    "    tasks = [asyncio.create_task(search(item)) for item in search_plan.searches]\n",
    "    results = await asyncio.gather(*tasks)\n",
    "    \n",
    "    print('Finished searching')\n",
    "    return results\n",
    "\n",
    "async def search(item: WebSearchItem):\n",
    "    \"\"\"Use the search_agent to run a web search for each item in the search plan\"\"\"\n",
    "\n",
    "    input_ = f'Search term: {item.query}\\nReason for searching: {item.reason}'\n",
    "    result = await Runner.run(search_agent, input_)\n",
    "\n",
    "    return result.final_output\n"
   ]
  },
  {
   "cell_type": "markdown",
   "id": "d0ca5ba4",
   "metadata": {},
   "source": [
    "#### Report and Notification Functions"
   ]
  },
  {
   "cell_type": "code",
   "execution_count": 34,
   "id": "f4510ee7",
   "metadata": {},
   "outputs": [],
   "source": [
    "async def write_report(query: str, search_results: list[str]):\n",
    "    \"\"\"Use the writer_agent to write a report based on the search results\"\"\"\n",
    "\n",
    "    print('Thinking about the report...')\n",
    "    input_ = f'Original query: {query}\\nSummarized search results: {search_results}'\n",
    "    result = await Runner.run(writer_agent, input_)\n",
    "    \n",
    "    print('Finished writing')\n",
    "    return result.final_output\n",
    "\n",
    "async def send_push(report: ReportData):\n",
    "    \"\"\"Use the push_agent to send a notification to the user\"\"\"\n",
    "\n",
    "    print('Pushing...')\n",
    "    _ = await Runner.run(push_agent, report.short_summary)\n",
    "    \n",
    "    print('Push sent')\n",
    "    return report"
   ]
  },
  {
   "cell_type": "code",
   "execution_count": null,
   "id": "bf71c99a",
   "metadata": {},
   "outputs": [],
   "source": [
    "query = 'What are the most popular and successful AI Agent frameworks in July 2025'\n",
    "\n",
    "with trace('Research trace'):\n",
    "    print('Starting research...')\n",
    "\n",
    "    search_plan = await plan_searches(query)\n",
    "    search_results = await perform_searches(search_plan)\n",
    "    report = await write_report(query, search_results)\n",
    "    await send_push(report)\n",
    "\n",
    "    print('Done!')\n",
    "\n",
    "display(Markdown(report.markdown_report))"
   ]
  },
  {
   "cell_type": "code",
   "execution_count": null,
   "id": "19e3316f",
   "metadata": {},
   "outputs": [],
   "source": []
  }
 ],
 "metadata": {
  "kernelspec": {
   "display_name": "action",
   "language": "python",
   "name": "python3"
  },
  "language_info": {
   "codemirror_mode": {
    "name": "ipython",
    "version": 3
   },
   "file_extension": ".py",
   "mimetype": "text/x-python",
   "name": "python",
   "nbconvert_exporter": "python",
   "pygments_lexer": "ipython3",
   "version": "3.12.3"
  }
 },
 "nbformat": 4,
 "nbformat_minor": 5
}
