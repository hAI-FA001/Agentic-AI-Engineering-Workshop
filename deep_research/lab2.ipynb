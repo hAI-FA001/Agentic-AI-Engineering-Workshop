{
 "cells": [
  {
   "cell_type": "code",
   "execution_count": 2,
   "id": "fbffc8cf",
   "metadata": {},
   "outputs": [
    {
     "data": {
      "text/plain": [
       "True"
      ]
     },
     "execution_count": 2,
     "metadata": {},
     "output_type": "execute_result"
    }
   ],
   "source": [
    "from agents import Agent, WebSearchTool, trace, Runner, function_tool, AsyncOpenAI, OpenAIChatCompletionsModel\n",
    "from agents.model_settings import ModelSettings\n",
    "\n",
    "from pydantic import BaseModel\n",
    "\n",
    "from dotenv import load_dotenv\n",
    "import asyncio\n",
    "import os\n",
    "\n",
    "from IPython.display import display, Markdown\n",
    "from pprint import pprint\n",
    "\n",
    "import requests\n",
    "\n",
    "load_dotenv(override=True)"
   ]
  },
  {
   "cell_type": "markdown",
   "id": "4ddd3a0c",
   "metadata": {},
   "source": [
    "# OpenAI Tools\n",
    "- `WebSearchTool`: search the web\n",
    "- `FileSearchTool`: retrieve from OpenAI vector stores\n",
    "- `ComputerTool`: automate computer tasks"
   ]
  },
  {
   "cell_type": "markdown",
   "id": "fec56cd5",
   "metadata": {},
   "source": [
    "# Agents to Make\n",
    "- Search Agent: search online\n",
    "- Planner Agent: come up with searches based on user's query\n",
    "- Report Agent: make a report\n",
    "- Push Agent: send a notification to the user's phone with a summary"
   ]
  },
  {
   "cell_type": "code",
   "execution_count": 3,
   "id": "32edffd9",
   "metadata": {},
   "outputs": [],
   "source": [
    "gemini_client = AsyncOpenAI(base_url=os.environ['GEMINI_BASE_URL'], api_key=os.environ['GEMINI_API_KEY'])\n",
    "gemini_model = OpenAIChatCompletionsModel(model='gemini-2.5-flash', openai_client=gemini_client)"
   ]
  },
  {
   "cell_type": "markdown",
   "id": "b483e4cf",
   "metadata": {},
   "source": [
    "#### Dummy Tools (Avoid Hosted Tools)"
   ]
  },
  {
   "cell_type": "code",
   "execution_count": null,
   "id": "e79b83d7",
   "metadata": {},
   "outputs": [],
   "source": [
    "# custom dummy tools to avoid hosted tools / pricing\n",
    "\n",
    "@function_tool\n",
    "async def web_search_tool(query: str):\n",
    "    \"\"\"Surf the web based on the given query\n",
    "    \n",
    "    Args:\n",
    "        query: The user's query\n",
    "    \"\"\"\n",
    "\n",
    "    return \"\"\"\n",
    "    Search Result 1: AutoGen\n",
    "    Search Result 2: LangChain\n",
    "    Search Result 3: LangGraph\n",
    "    Search Result 4: CrewAI\n",
    "    Search Result 5: OpenAI Agents SDK\n",
    "    \"\"\""
   ]
  },
  {
   "cell_type": "markdown",
   "id": "b901d64a",
   "metadata": {},
   "source": [
    "#### Agent 1 - Search Agent"
   ]
  },
  {
   "cell_type": "code",
   "execution_count": 9,
   "id": "6fd987e0",
   "metadata": {},
   "outputs": [],
   "source": [
    "INSTRUCTIONS = \"\"\"You are a research assistant. Given a search term, you search the web for that term and \\\n",
    "produce a concise summary of the results. The summary must be 2-3 paragraphs and less than 300 words. \\\n",
    "Capture the main points. Write succint, no need to have complete sentences or good grammar. This will be \\\n",
    "consumed by someone synthesizing a report, so it's vital you capture the essence and ignore any fluff. Do \\\n",
    "not include any additional commentary other than the summary itself.\"\"\"\n",
    "\n",
    "search_agent = Agent(\n",
    "    name='Search Agent',\n",
    "    instructions=INSTRUCTIONS,\n",
    "    # tools=[WebSearchTool(search_context_size='low')],\n",
    "    tools=[web_search_tool],\n",
    "    model=gemini_model,\n",
    "    model_settings=ModelSettings(tool_choice='required'),\n",
    ")"
   ]
  },
  {
   "cell_type": "code",
   "execution_count": 10,
   "id": "86d12fd7",
   "metadata": {},
   "outputs": [
    {
     "name": "stderr",
     "output_type": "stream",
     "text": [
      "OPENAI_API_KEY is not set, skipping trace export\n",
      "OPENAI_API_KEY is not set, skipping trace export\n"
     ]
    },
    {
     "data": {
      "text/markdown": [
       "As of 2024, prominent AI Agent frameworks include AutoGen, LangChain, LangGraph, CrewAI, and OpenAI Agents SDK. These frameworks are widely adopted for building and managing AI agents, offering tools and abstractions to streamline development.\n",
       "\n",
       "LangChain and LangGraph are well-established for their comprehensive features in orchestrating complex AI workflows, including chaining different models and tools. AutoGen, on the other hand, focuses on enabling multi-agent conversations and collaborations.\n",
       "\n",
       "CrewAI is gaining traction for its capabilities in defining and managing AI agent teams, while the OpenAI Agents SDK provides direct integration with OpenAI's models for agent creation. These frameworks represent the current leading solutions for developing intelligent agent-based applications."
      ],
      "text/plain": [
       "<IPython.core.display.Markdown object>"
      ]
     },
     "metadata": {},
     "output_type": "display_data"
    },
    {
     "name": "stderr",
     "output_type": "stream",
     "text": [
      "OPENAI_API_KEY is not set, skipping trace export\n"
     ]
    }
   ],
   "source": [
    "message = 'What are the most popular and successful AI Agent frameworks in July 2025'\n",
    "with trace('Search'):\n",
    "    result = await Runner.run(search_agent, message)\n",
    "\n",
    "display(Markdown(result.final_output))"
   ]
  },
  {
   "cell_type": "markdown",
   "id": "79b60335",
   "metadata": {},
   "source": [
    "#### Agent 2 - Planner Agent"
   ]
  },
  {
   "cell_type": "code",
   "execution_count": 11,
   "id": "a14bc9f8",
   "metadata": {},
   "outputs": [],
   "source": [
    "HOW_MANY_SEARCHES = 5\n",
    "INSTRUCTIONS = f\"You are a helpful research assistant. Given a query, come up with a set of web searches \\\n",
    "to perform to best answer the query. Ouptut {HOW_MANY_SEARCHES} terms to query for.\"\n",
    "\n",
    "# structured outputs\n",
    "class WebSearchItem(BaseModel):\n",
    "    reason: str  # force the model to tell us its thinking\n",
    "    \"Your reasoning for why this search is important to the query\"\n",
    "\n",
    "    query: str\n",
    "    \"The search term to use for the web search\"\n",
    "\n",
    "class WebSearchPlan(BaseModel):\n",
    "    searches: list[WebSearchItem]\n",
    "    \"\"\"A list of web searches to perform to best answer the query\"\"\"\n",
    "\n",
    "planner_agent = Agent(\n",
    "    name=\"PlannerAgent\",\n",
    "    instructions=INSTRUCTIONS,\n",
    "    model=gemini_model,\n",
    "    output_type=WebSearchPlan,\n",
    ")"
   ]
  },
  {
   "cell_type": "code",
   "execution_count": 12,
   "id": "d6763271",
   "metadata": {},
   "outputs": [
    {
     "name": "stdout",
     "output_type": "stream",
     "text": [
      "WebSearchPlan(searches=[WebSearchItem(reason='To establish a baseline of currently popular AI agent frameworks, which are likely to continue their success or evolve.', query='most popular AI agent frameworks 2024'), WebSearchItem(reason='To identify newer frameworks or significant trends expected to gain traction by July 2025.', query='emerging AI agent framework trends projections 2025'), WebSearchItem(reason=\"To understand the criteria and metrics that define 'success' for AI agent frameworks, such as community support, performance, and enterprise adoption.\", query='AI agent framework success factors adoption rates'), WebSearchItem(reason='To find information on significant R&D efforts from leading organizations or academia that might lead to influential frameworks by 2025.', query='top AI agent research and development initiatives'), WebSearchItem(reason='To look for industry analyses, expert opinions, or foresight reports discussing the evolution and potential leaders in AI agent frameworks towards mid-2025.', query='future of AI agents and framework predictions')])\n"
     ]
    },
    {
     "name": "stderr",
     "output_type": "stream",
     "text": [
      "OPENAI_API_KEY is not set, skipping trace export\n"
     ]
    }
   ],
   "source": [
    "message = \"What are the most popular and successful AI Agent frameworks in July 2025\"\n",
    "\n",
    "with trace(\"Search\"):\n",
    "    result = await Runner.run(planner_agent, message)\n",
    "    pprint(result.final_output)"
   ]
  },
  {
   "cell_type": "code",
   "execution_count": 13,
   "id": "edd73803",
   "metadata": {},
   "outputs": [
    {
     "name": "stdout",
     "output_type": "stream",
     "text": [
      "To establish a baseline of currently popular AI agent frameworks, which are likely to continue their success or evolve.\n",
      "most popular AI agent frameworks 2024\n",
      "\n",
      "To identify newer frameworks or significant trends expected to gain traction by July 2025.\n",
      "emerging AI agent framework trends projections 2025\n",
      "\n",
      "To understand the criteria and metrics that define 'success' for AI agent frameworks, such as community support, performance, and enterprise adoption.\n",
      "AI agent framework success factors adoption rates\n",
      "\n",
      "To find information on significant R&D efforts from leading organizations or academia that might lead to influential frameworks by 2025.\n",
      "top AI agent research and development initiatives\n",
      "\n",
      "To look for industry analyses, expert opinions, or foresight reports discussing the evolution and potential leaders in AI agent frameworks towards mid-2025.\n",
      "future of AI agents and framework predictions\n",
      "\n"
     ]
    }
   ],
   "source": [
    "for search in result.final_output.searches:\n",
    "    print(search.reason)\n",
    "    print(search.query)\n",
    "    print()"
   ]
  },
  {
   "cell_type": "markdown",
   "id": "8a4c7791",
   "metadata": {},
   "source": [
    "#### Agent 3 - Writer Agent"
   ]
  },
  {
   "cell_type": "code",
   "execution_count": 14,
   "id": "1026df07",
   "metadata": {},
   "outputs": [],
   "source": [
    "INSTRUCTIONS = \"\"\"\n",
    "You are a senior researcher tasked with writing a cohesive report for a research query.\n",
    "You will be provided with the original query and some initial research done by a research assistant.\n",
    "\n",
    "You should first come up with an outline for the report that describes the structure and flow of the report.\n",
    "Then, generate the report and return that as your final output.\n",
    "\n",
    "The final output should be in markdown format and it should be length and detailed.\n",
    "Aim for 5-10 pages of content, at least 1000 words.\n",
    "\"\"\"\n",
    "\n",
    "class ReportData(BaseModel):\n",
    "    short_summary: str\n",
    "    \"\"\"A short 2-3 sentence summary of the findings\"\"\"\n",
    "\n",
    "    markdown_report: str\n",
    "    \"\"\"The final report\"\"\"\n",
    "\n",
    "    follow_up_questions: list[str]\n",
    "    \"\"\"Suggested topics to research further\"\"\"\n",
    "\n",
    "writer_agent = Agent(\n",
    "    name='WriterAgent',\n",
    "    instructions=INSTRUCTIONS,\n",
    "    model=gemini_model,\n",
    "    output_type=ReportData\n",
    ")"
   ]
  },
  {
   "cell_type": "markdown",
   "id": "483edfd0",
   "metadata": {},
   "source": [
    "#### Agent 4 - Push Notification Agent"
   ]
  },
  {
   "cell_type": "code",
   "execution_count": null,
   "id": "d38a4e65",
   "metadata": {},
   "outputs": [],
   "source": [
    "# https://pushover.net\n",
    "\n",
    "pushover_user = ...\n",
    "pushover_token = ...\n",
    "pushover_url = ...\n",
    "\n",
    "@function_tool\n",
    "def push(message: str):\n",
    "    \"\"\"Send a push notification with this brief message\"\"\"\n",
    "    payload = {\"user\": pushover_user, \"token\": pushover_token, \"message\": message}\n",
    "    requests.post(pushover_url, data=payload)\n",
    "    return {\"status\": \"success\"}\n",
    "\n",
    "# dummy tool to avoid tools with pricing\n",
    "@function_tool\n",
    "def push_tool(message: str):\n",
    "    \"\"\"Send a push notification with this brief message\"\"\"\n",
    "    print(f'Dummy tool called to send push notification with message: {message}')\n",
    "    return {\"status\": \"success\"}"
   ]
  },
  {
   "cell_type": "code",
   "execution_count": null,
   "id": "6975ccea",
   "metadata": {},
   "outputs": [],
   "source": [
    "INSTRUCTIONS = \"\"\"You are a member of a research team and will be provided with a short summary of a report.\n",
    "When you receive the report summary, you send a push notification to the user using your tool, informing them that research is complete,\n",
    "and including the report summary you received.\"\"\"\n",
    "\n",
    "push_agent = Agent(\n",
    "    name='push_agent',\n",
    "    instructions=INSTRUCTIONS,\n",
    "    tools=[push_tool],\n",
    "    model=gemini_model,\n",
    "    model_settings=ModelSettings(tool_choice=['required'])\n",
    ")"
   ]
  }
 ],
 "metadata": {
  "kernelspec": {
   "display_name": "action",
   "language": "python",
   "name": "python3"
  },
  "language_info": {
   "codemirror_mode": {
    "name": "ipython",
    "version": 3
   },
   "file_extension": ".py",
   "mimetype": "text/x-python",
   "name": "python",
   "nbconvert_exporter": "python",
   "pygments_lexer": "ipython3",
   "version": "3.12.3"
  }
 },
 "nbformat": 4,
 "nbformat_minor": 5
}
