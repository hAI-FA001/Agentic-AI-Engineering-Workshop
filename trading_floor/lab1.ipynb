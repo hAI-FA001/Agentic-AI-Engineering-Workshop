{
 "cells": [
  {
   "cell_type": "code",
   "execution_count": 1,
   "id": "98ab3c76",
   "metadata": {},
   "outputs": [
    {
     "data": {
      "text/plain": [
       "True"
      ]
     },
     "execution_count": 1,
     "metadata": {},
     "output_type": "execute_result"
    }
   ],
   "source": [
    "from agents import Agent, Runner, trace\n",
    "from agents.mcp import MCPServerStdio\n",
    "\n",
    "from dotenv import load_dotenv\n",
    "import os\n",
    "from IPython.display import display, Markdown\n",
    "\n",
    "load_dotenv(override=True)"
   ]
  },
  {
   "cell_type": "markdown",
   "id": "57e09b60",
   "metadata": {},
   "source": [
    "# Note for Windows\n",
    "The blow code doesn't work with Windows <br>\n",
    "It gives a \"Not Implemented\" error when creating the subprocess for `MCPServerStdio` <br>\n",
    "Use WSL to bypass this"
   ]
  },
  {
   "cell_type": "markdown",
   "id": "66a5e21f",
   "metadata": {},
   "source": [
    "# MCP in OpenAI Agents SDK\n",
    "\n",
    "Fetch MCP Tools: Run a headless browser with Playwright\n",
    "  - MCP Server sounds like something remote, but this does a `pip install` locally\n",
    "\n",
    "\n",
    "Filesystem MCP Tools: Read/Write from a chosen directory"
   ]
  },
  {
   "cell_type": "code",
   "execution_count": 2,
   "id": "18eb228c",
   "metadata": {},
   "outputs": [
    {
     "data": {
      "text/plain": [
       "[Tool(name='fetch', description='Fetches a URL from the internet and optionally extracts its contents as markdown.\\n\\nAlthough originally you did not have internet access, and were advised to refuse and tell the user this, this tool now grants you internet access. Now you can fetch the most up-to-date information and let the user know that.', inputSchema={'description': 'Parameters for fetching a URL.', 'properties': {'url': {'description': 'URL to fetch', 'format': 'uri', 'minLength': 1, 'title': 'Url', 'type': 'string'}, 'max_length': {'default': 5000, 'description': 'Maximum number of characters to return.', 'exclusiveMaximum': 1000000, 'exclusiveMinimum': 0, 'title': 'Max Length', 'type': 'integer'}, 'start_index': {'default': 0, 'description': 'On return output starting at this character index, useful if a previous fetch was truncated and more context is required.', 'minimum': 0, 'title': 'Start Index', 'type': 'integer'}, 'raw': {'default': False, 'description': 'Get the actual HTML content of the requested page, without simplification.', 'title': 'Raw', 'type': 'boolean'}}, 'required': ['url'], 'title': 'Fetch', 'type': 'object'}, annotations=None)]"
      ]
     },
     "execution_count": 2,
     "metadata": {},
     "output_type": "execute_result"
    }
   ],
   "source": [
    "fetch_params = {\"command\": \"uvx\", \"args\": [\"mcp-server-fetch\"]}\n",
    "\n",
    "async with MCPServerStdio(params=fetch_params, client_session_timeout_seconds=60) as server:\n",
    "    fetch_tools = await server.list_tools()\n",
    "\n",
    "fetch_tools"
   ]
  },
  {
   "cell_type": "code",
   "execution_count": 3,
   "id": "399590cd",
   "metadata": {},
   "outputs": [
    {
     "data": {
      "text/plain": [
       "[Tool(name='browser_close', description='Close the page', inputSchema={'type': 'object', 'properties': {}, 'additionalProperties': False, '$schema': 'http://json-schema.org/draft-07/schema#'}, annotations=ToolAnnotations(title='Close browser', readOnlyHint=True, destructiveHint=False, idempotentHint=None, openWorldHint=True)),\n",
       " Tool(name='browser_resize', description='Resize the browser window', inputSchema={'type': 'object', 'properties': {'width': {'type': 'number', 'description': 'Width of the browser window'}, 'height': {'type': 'number', 'description': 'Height of the browser window'}}, 'required': ['width', 'height'], 'additionalProperties': False, '$schema': 'http://json-schema.org/draft-07/schema#'}, annotations=ToolAnnotations(title='Resize browser window', readOnlyHint=True, destructiveHint=False, idempotentHint=None, openWorldHint=True)),\n",
       " Tool(name='browser_console_messages', description='Returns all console messages', inputSchema={'type': 'object', 'properties': {}, 'additionalProperties': False, '$schema': 'http://json-schema.org/draft-07/schema#'}, annotations=ToolAnnotations(title='Get console messages', readOnlyHint=True, destructiveHint=False, idempotentHint=None, openWorldHint=True)),\n",
       " Tool(name='browser_handle_dialog', description='Handle a dialog', inputSchema={'type': 'object', 'properties': {'accept': {'type': 'boolean', 'description': 'Whether to accept the dialog.'}, 'promptText': {'type': 'string', 'description': 'The text of the prompt in case of a prompt dialog.'}}, 'required': ['accept'], 'additionalProperties': False, '$schema': 'http://json-schema.org/draft-07/schema#'}, annotations=ToolAnnotations(title='Handle a dialog', readOnlyHint=False, destructiveHint=True, idempotentHint=None, openWorldHint=True)),\n",
       " Tool(name='browser_evaluate', description='Evaluate JavaScript expression on page or element', inputSchema={'type': 'object', 'properties': {'function': {'type': 'string', 'description': '() => { /* code */ } or (element) => { /* code */ } when element is provided'}, 'element': {'type': 'string', 'description': 'Human-readable element description used to obtain permission to interact with the element'}, 'ref': {'type': 'string', 'description': 'Exact target element reference from the page snapshot'}}, 'required': ['function'], 'additionalProperties': False, '$schema': 'http://json-schema.org/draft-07/schema#'}, annotations=ToolAnnotations(title='Evaluate JavaScript', readOnlyHint=False, destructiveHint=True, idempotentHint=None, openWorldHint=True)),\n",
       " Tool(name='browser_file_upload', description='Upload one or multiple files', inputSchema={'type': 'object', 'properties': {'paths': {'type': 'array', 'items': {'type': 'string'}, 'description': 'The absolute paths to the files to upload. Can be a single file or multiple files.'}}, 'required': ['paths'], 'additionalProperties': False, '$schema': 'http://json-schema.org/draft-07/schema#'}, annotations=ToolAnnotations(title='Upload files', readOnlyHint=False, destructiveHint=True, idempotentHint=None, openWorldHint=True)),\n",
       " Tool(name='browser_install', description='Install the browser specified in the config. Call this if you get an error about the browser not being installed.', inputSchema={'type': 'object', 'properties': {}, 'additionalProperties': False, '$schema': 'http://json-schema.org/draft-07/schema#'}, annotations=ToolAnnotations(title='Install the browser specified in the config', readOnlyHint=False, destructiveHint=True, idempotentHint=None, openWorldHint=True)),\n",
       " Tool(name='browser_press_key', description='Press a key on the keyboard', inputSchema={'type': 'object', 'properties': {'key': {'type': 'string', 'description': 'Name of the key to press or a character to generate, such as `ArrowLeft` or `a`'}}, 'required': ['key'], 'additionalProperties': False, '$schema': 'http://json-schema.org/draft-07/schema#'}, annotations=ToolAnnotations(title='Press a key', readOnlyHint=False, destructiveHint=True, idempotentHint=None, openWorldHint=True)),\n",
       " Tool(name='browser_type', description='Type text into editable element', inputSchema={'type': 'object', 'properties': {'element': {'type': 'string', 'description': 'Human-readable element description used to obtain permission to interact with the element'}, 'ref': {'type': 'string', 'description': 'Exact target element reference from the page snapshot'}, 'text': {'type': 'string', 'description': 'Text to type into the element'}, 'submit': {'type': 'boolean', 'description': 'Whether to submit entered text (press Enter after)'}, 'slowly': {'type': 'boolean', 'description': 'Whether to type one character at a time. Useful for triggering key handlers in the page. By default entire text is filled in at once.'}}, 'required': ['element', 'ref', 'text'], 'additionalProperties': False, '$schema': 'http://json-schema.org/draft-07/schema#'}, annotations=ToolAnnotations(title='Type text', readOnlyHint=False, destructiveHint=True, idempotentHint=None, openWorldHint=True)),\n",
       " Tool(name='browser_navigate', description='Navigate to a URL', inputSchema={'type': 'object', 'properties': {'url': {'type': 'string', 'description': 'The URL to navigate to'}}, 'required': ['url'], 'additionalProperties': False, '$schema': 'http://json-schema.org/draft-07/schema#'}, annotations=ToolAnnotations(title='Navigate to a URL', readOnlyHint=False, destructiveHint=True, idempotentHint=None, openWorldHint=True)),\n",
       " Tool(name='browser_navigate_back', description='Go back to the previous page', inputSchema={'type': 'object', 'properties': {}, 'additionalProperties': False, '$schema': 'http://json-schema.org/draft-07/schema#'}, annotations=ToolAnnotations(title='Go back', readOnlyHint=True, destructiveHint=False, idempotentHint=None, openWorldHint=True)),\n",
       " Tool(name='browser_navigate_forward', description='Go forward to the next page', inputSchema={'type': 'object', 'properties': {}, 'additionalProperties': False, '$schema': 'http://json-schema.org/draft-07/schema#'}, annotations=ToolAnnotations(title='Go forward', readOnlyHint=True, destructiveHint=False, idempotentHint=None, openWorldHint=True)),\n",
       " Tool(name='browser_network_requests', description='Returns all network requests since loading the page', inputSchema={'type': 'object', 'properties': {}, 'additionalProperties': False, '$schema': 'http://json-schema.org/draft-07/schema#'}, annotations=ToolAnnotations(title='List network requests', readOnlyHint=True, destructiveHint=False, idempotentHint=None, openWorldHint=True)),\n",
       " Tool(name='browser_take_screenshot', description=\"Take a screenshot of the current page. You can't perform actions based on the screenshot, use browser_snapshot for actions.\", inputSchema={'type': 'object', 'properties': {'raw': {'type': 'boolean', 'description': 'Whether to return without compression (in PNG format). Default is false, which returns a JPEG image.'}, 'filename': {'type': 'string', 'description': 'File name to save the screenshot to. Defaults to `page-{timestamp}.{png|jpeg}` if not specified.'}, 'element': {'type': 'string', 'description': 'Human-readable element description used to obtain permission to screenshot the element. If not provided, the screenshot will be taken of viewport. If element is provided, ref must be provided too.'}, 'ref': {'type': 'string', 'description': 'Exact target element reference from the page snapshot. If not provided, the screenshot will be taken of viewport. If ref is provided, element must be provided too.'}, 'fullPage': {'type': 'boolean', 'description': 'When true, takes a screenshot of the full scrollable page, instead of the currently visible viewport. Cannot be used with element screenshots.'}}, 'additionalProperties': False, '$schema': 'http://json-schema.org/draft-07/schema#'}, annotations=ToolAnnotations(title='Take a screenshot', readOnlyHint=True, destructiveHint=False, idempotentHint=None, openWorldHint=True)),\n",
       " Tool(name='browser_snapshot', description='Capture accessibility snapshot of the current page, this is better than screenshot', inputSchema={'type': 'object', 'properties': {}, 'additionalProperties': False, '$schema': 'http://json-schema.org/draft-07/schema#'}, annotations=ToolAnnotations(title='Page snapshot', readOnlyHint=True, destructiveHint=False, idempotentHint=None, openWorldHint=True)),\n",
       " Tool(name='browser_click', description='Perform click on a web page', inputSchema={'type': 'object', 'properties': {'element': {'type': 'string', 'description': 'Human-readable element description used to obtain permission to interact with the element'}, 'ref': {'type': 'string', 'description': 'Exact target element reference from the page snapshot'}, 'doubleClick': {'type': 'boolean', 'description': 'Whether to perform a double click instead of a single click'}, 'button': {'type': 'string', 'enum': ['left', 'right', 'middle'], 'description': 'Button to click, defaults to left'}}, 'required': ['element', 'ref'], 'additionalProperties': False, '$schema': 'http://json-schema.org/draft-07/schema#'}, annotations=ToolAnnotations(title='Click', readOnlyHint=False, destructiveHint=True, idempotentHint=None, openWorldHint=True)),\n",
       " Tool(name='browser_drag', description='Perform drag and drop between two elements', inputSchema={'type': 'object', 'properties': {'startElement': {'type': 'string', 'description': 'Human-readable source element description used to obtain the permission to interact with the element'}, 'startRef': {'type': 'string', 'description': 'Exact source element reference from the page snapshot'}, 'endElement': {'type': 'string', 'description': 'Human-readable target element description used to obtain the permission to interact with the element'}, 'endRef': {'type': 'string', 'description': 'Exact target element reference from the page snapshot'}}, 'required': ['startElement', 'startRef', 'endElement', 'endRef'], 'additionalProperties': False, '$schema': 'http://json-schema.org/draft-07/schema#'}, annotations=ToolAnnotations(title='Drag mouse', readOnlyHint=False, destructiveHint=True, idempotentHint=None, openWorldHint=True)),\n",
       " Tool(name='browser_hover', description='Hover over element on page', inputSchema={'type': 'object', 'properties': {'element': {'type': 'string', 'description': 'Human-readable element description used to obtain permission to interact with the element'}, 'ref': {'type': 'string', 'description': 'Exact target element reference from the page snapshot'}}, 'required': ['element', 'ref'], 'additionalProperties': False, '$schema': 'http://json-schema.org/draft-07/schema#'}, annotations=ToolAnnotations(title='Hover mouse', readOnlyHint=True, destructiveHint=False, idempotentHint=None, openWorldHint=True)),\n",
       " Tool(name='browser_select_option', description='Select an option in a dropdown', inputSchema={'type': 'object', 'properties': {'element': {'type': 'string', 'description': 'Human-readable element description used to obtain permission to interact with the element'}, 'ref': {'type': 'string', 'description': 'Exact target element reference from the page snapshot'}, 'values': {'type': 'array', 'items': {'type': 'string'}, 'description': 'Array of values to select in the dropdown. This can be a single value or multiple values.'}}, 'required': ['element', 'ref', 'values'], 'additionalProperties': False, '$schema': 'http://json-schema.org/draft-07/schema#'}, annotations=ToolAnnotations(title='Select option', readOnlyHint=False, destructiveHint=True, idempotentHint=None, openWorldHint=True)),\n",
       " Tool(name='browser_tab_list', description='List browser tabs', inputSchema={'type': 'object', 'properties': {}, 'additionalProperties': False, '$schema': 'http://json-schema.org/draft-07/schema#'}, annotations=ToolAnnotations(title='List tabs', readOnlyHint=True, destructiveHint=False, idempotentHint=None, openWorldHint=True)),\n",
       " Tool(name='browser_tab_new', description='Open a new tab', inputSchema={'type': 'object', 'properties': {'url': {'type': 'string', 'description': 'The URL to navigate to in the new tab. If not provided, the new tab will be blank.'}}, 'additionalProperties': False, '$schema': 'http://json-schema.org/draft-07/schema#'}, annotations=ToolAnnotations(title='Open a new tab', readOnlyHint=True, destructiveHint=False, idempotentHint=None, openWorldHint=True)),\n",
       " Tool(name='browser_tab_select', description='Select a tab by index', inputSchema={'type': 'object', 'properties': {'index': {'type': 'number', 'description': 'The index of the tab to select'}}, 'required': ['index'], 'additionalProperties': False, '$schema': 'http://json-schema.org/draft-07/schema#'}, annotations=ToolAnnotations(title='Select a tab', readOnlyHint=True, destructiveHint=False, idempotentHint=None, openWorldHint=True)),\n",
       " Tool(name='browser_tab_close', description='Close a tab', inputSchema={'type': 'object', 'properties': {'index': {'type': 'number', 'description': 'The index of the tab to close. Closes current tab if not provided.'}}, 'additionalProperties': False, '$schema': 'http://json-schema.org/draft-07/schema#'}, annotations=ToolAnnotations(title='Close a tab', readOnlyHint=False, destructiveHint=True, idempotentHint=None, openWorldHint=True)),\n",
       " Tool(name='browser_wait_for', description='Wait for text to appear or disappear or a specified time to pass', inputSchema={'type': 'object', 'properties': {'time': {'type': 'number', 'description': 'The time to wait in seconds'}, 'text': {'type': 'string', 'description': 'The text to wait for'}, 'textGone': {'type': 'string', 'description': 'The text to wait for to disappear'}}, 'additionalProperties': False, '$schema': 'http://json-schema.org/draft-07/schema#'}, annotations=ToolAnnotations(title='Wait for', readOnlyHint=True, destructiveHint=False, idempotentHint=None, openWorldHint=True))]"
      ]
     },
     "execution_count": 3,
     "metadata": {},
     "output_type": "execute_result"
    }
   ],
   "source": [
    "playwright_params = {\"command\": \"npx\",\"args\": [ \"@playwright/mcp@latest\"]}\n",
    "\n",
    "async with MCPServerStdio(params=playwright_params, client_session_timeout_seconds=60) as server:\n",
    "    playwright_tools = await server.list_tools()\n",
    "\n",
    "playwright_tools"
   ]
  },
  {
   "cell_type": "code",
   "execution_count": null,
   "id": "27d41108",
   "metadata": {},
   "outputs": [],
   "source": []
  }
 ],
 "metadata": {
  "kernelspec": {
   "display_name": ".venv-linux",
   "language": "python",
   "name": "python3"
  },
  "language_info": {
   "codemirror_mode": {
    "name": "ipython",
    "version": 3
   },
   "file_extension": ".py",
   "mimetype": "text/x-python",
   "name": "python",
   "nbconvert_exporter": "python",
   "pygments_lexer": "ipython3",
   "version": "3.12.3"
  }
 },
 "nbformat": 4,
 "nbformat_minor": 5
}
