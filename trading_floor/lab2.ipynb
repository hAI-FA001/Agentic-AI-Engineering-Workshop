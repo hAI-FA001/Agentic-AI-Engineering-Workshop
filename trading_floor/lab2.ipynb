{
 "cells": [
  {
   "cell_type": "code",
   "execution_count": 1,
   "id": "dcdec848",
   "metadata": {},
   "outputs": [
    {
     "data": {
      "text/plain": [
       "True"
      ]
     },
     "execution_count": 1,
     "metadata": {},
     "output_type": "execute_result"
    }
   ],
   "source": [
    "from agents import Agent, Runner, trace, AsyncOpenAI, OpenAIChatCompletionsModel\n",
    "from agents.mcp import MCPServerStdio\n",
    "\n",
    "from dotenv import load_dotenv\n",
    "from IPython.display import display, Markdown\n",
    "\n",
    "load_dotenv(override=True)"
   ]
  },
  {
   "cell_type": "markdown",
   "id": "aac3958d",
   "metadata": {},
   "source": [
    "# Accounts module"
   ]
  },
  {
   "cell_type": "code",
   "execution_count": 4,
   "id": "e2ccd9b4",
   "metadata": {},
   "outputs": [],
   "source": [
    "from accounts import Account"
   ]
  },
  {
   "cell_type": "code",
   "execution_count": 5,
   "id": "fd3c925e",
   "metadata": {},
   "outputs": [
    {
     "data": {
      "text/plain": [
       "Account(name='ed', balance=10000.0, strategy='', holdings={}, transactions=[], portfolio_value_time_series=[])"
      ]
     },
     "execution_count": 5,
     "metadata": {},
     "output_type": "execute_result"
    }
   ],
   "source": [
    "account = Account.get('Ed')\n",
    "account"
   ]
  },
  {
   "cell_type": "code",
   "execution_count": 6,
   "id": "5867205c",
   "metadata": {},
   "outputs": [
    {
     "data": {
      "text/plain": [
       "'Completed. Latest details:\\n{\"name\": \"ed\", \"balance\": 9994.99, \"strategy\": \"\", \"holdings\": {\"AMZN\": 1}, \"transactions\": [{\"symbol\": \"AMZN\", \"quantity\": 1, \"price\": 5.01, \"timestamp\": \"2025-08-05 16:13:09\", \"rationale\": \"This bookstore website looks promising\"}], \"portfolio_value_time_series\": [[\"2025-08-05 16:13:09\", 10054.99]], \"total_portfolio_value\": 10054.99, \"total_profit_loss\": 54.98999999999978}'"
      ]
     },
     "execution_count": 6,
     "metadata": {},
     "output_type": "execute_result"
    }
   ],
   "source": [
    "account.buy_shares('AMZN', 1, 'This bookstore website looks promising')"
   ]
  },
  {
   "cell_type": "code",
   "execution_count": 7,
   "id": "efcb4667",
   "metadata": {},
   "outputs": [
    {
     "data": {
      "text/plain": [
       "'{\"name\": \"ed\", \"balance\": 9994.99, \"strategy\": \"\", \"holdings\": {\"AMZN\": 1}, \"transactions\": [{\"symbol\": \"AMZN\", \"quantity\": 1, \"price\": 5.01, \"timestamp\": \"2025-08-05 16:13:09\", \"rationale\": \"This bookstore website looks promising\"}], \"portfolio_value_time_series\": [[\"2025-08-05 16:13:09\", 10054.99], [\"2025-08-05 16:13:11\", 10015.99]], \"total_portfolio_value\": 10015.99, \"total_profit_loss\": 15.989999999999782}'"
      ]
     },
     "execution_count": 7,
     "metadata": {},
     "output_type": "execute_result"
    }
   ],
   "source": [
    "account.report()"
   ]
  },
  {
   "cell_type": "code",
   "execution_count": 8,
   "id": "93d6c452",
   "metadata": {},
   "outputs": [
    {
     "data": {
      "text/plain": [
       "[{'symbol': 'AMZN',\n",
       "  'quantity': 1,\n",
       "  'price': 5.01,\n",
       "  'timestamp': '2025-08-05 16:13:09',\n",
       "  'rationale': 'This bookstore website looks promising'}]"
      ]
     },
     "execution_count": 8,
     "metadata": {},
     "output_type": "execute_result"
    }
   ],
   "source": [
    "account.list_transactions()"
   ]
  },
  {
   "cell_type": "markdown",
   "id": "341c9b77",
   "metadata": {},
   "source": [
    "# Accounts MCP Server"
   ]
  },
  {
   "cell_type": "code",
   "execution_count": 15,
   "id": "97ede77e",
   "metadata": {},
   "outputs": [
    {
     "data": {
      "text/plain": [
       "[Tool(name='get_balance', description='Get the cash balance of the given account name', inputSchema={'properties': {'name': {'title': 'Name', 'type': 'string'}}, 'required': ['name'], 'title': 'get_balanceArguments', 'type': 'object'}, annotations=None),\n",
       " Tool(name='get_holdings', description='Get the holdings of the given account name', inputSchema={'properties': {'name': {'title': 'Name', 'type': 'string'}}, 'required': ['name'], 'title': 'get_holdingsArguments', 'type': 'object'}, annotations=None),\n",
       " Tool(name='buy_shares', description=\"Buy shares of a stock.\\nArgs:\\n    name: name of the account holder\\n    symbol: symbol of the stock\\n    quantity: how many shares to buy\\n    rationale: reason for purchasing, fit with the account's strategy\", inputSchema={'properties': {'name': {'title': 'Name', 'type': 'string'}, 'symbol': {'title': 'Symbol', 'type': 'string'}, 'quantity': {'title': 'Quantity', 'type': 'integer'}, 'rationale': {'title': 'Rationale', 'type': 'string'}}, 'required': ['name', 'symbol', 'quantity', 'rationale'], 'title': 'buy_sharesArguments', 'type': 'object'}, annotations=None),\n",
       " Tool(name='sell_shares', description=\"Sell shares of a stock.\\nArgs:\\n    name: name of the account holder\\n    symbol: symbol of the stock\\n    quantity: how many shares to sell\\n    rationale: reason for selling, fit with the account's strategy\", inputSchema={'properties': {'name': {'title': 'Name', 'type': 'string'}, 'symbol': {'title': 'Symbol', 'type': 'string'}, 'quantity': {'title': 'Quantity', 'type': 'integer'}, 'rationale': {'title': 'Rationale', 'type': 'string'}}, 'required': ['name', 'symbol', 'quantity', 'rationale'], 'title': 'sell_sharesArguments', 'type': 'object'}, annotations=None),\n",
       " Tool(name='change_strategy', description='At your discretion, call this to change your investment strategy', inputSchema={'properties': {'name': {'title': 'Name', 'type': 'string'}, 'strategy': {'title': 'Strategy', 'type': 'string'}}, 'required': ['name', 'strategy'], 'title': 'change_strategyArguments', 'type': 'object'}, annotations=None)]"
      ]
     },
     "execution_count": 15,
     "metadata": {},
     "output_type": "execute_result"
    }
   ],
   "source": [
    "params = {\"command\": \"uv\", \"args\": [\"run\", \"accounts_server.py\", \"--active\"]}  # --active to target currently activated virtual env\n",
    "\n",
    "async with MCPServerStdio(params, client_session_timeout_seconds=60) as server:\n",
    "    mcp_tools = await server.list_tools()\n",
    "\n",
    "mcp_tools"
   ]
  },
  {
   "cell_type": "code",
   "execution_count": 16,
   "id": "5f221809",
   "metadata": {},
   "outputs": [],
   "source": [
    "import os\n",
    "\n",
    "gemini_client = AsyncOpenAI(base_url=os.environ['GEMINI_BASE_URL'], api_key=os.environ['GEMINI_API_KEY'])\n",
    "gemini_model = OpenAIChatCompletionsModel(model='gemini-2.5-flash', openai_client=gemini_client)"
   ]
  },
  {
   "cell_type": "code",
   "execution_count": 17,
   "id": "8559bc26",
   "metadata": {},
   "outputs": [],
   "source": [
    "instructions = \"You are able to manage an account for a client, and answer questions about the account.\"\n",
    "request = \"My account is under the name Ed. What's my balance and holdings?\""
   ]
  },
  {
   "cell_type": "code",
   "execution_count": 19,
   "id": "65b97003",
   "metadata": {},
   "outputs": [
    {
     "data": {
      "text/markdown": [
       "Your balance is 9994.99 and you hold 1 share of AMZN."
      ],
      "text/plain": [
       "<IPython.core.display.Markdown object>"
      ]
     },
     "metadata": {},
     "output_type": "display_data"
    }
   ],
   "source": [
    "async with MCPServerStdio(params, client_session_timeout_seconds=10) as server:\n",
    "    agent = Agent(\n",
    "        name='account_manager',\n",
    "        instructions=instructions,\n",
    "        model=gemini_model,\n",
    "        mcp_servers=[server]\n",
    "    )\n",
    "\n",
    "    with trace('account_manager'):\n",
    "        result = await Runner.run(agent, request)\n",
    "    display(Markdown(result.final_output))"
   ]
  },
  {
   "cell_type": "code",
   "execution_count": null,
   "id": "1866f86b",
   "metadata": {},
   "outputs": [],
   "source": []
  }
 ],
 "metadata": {
  "kernelspec": {
   "display_name": ".venv-linux",
   "language": "python",
   "name": "python3"
  },
  "language_info": {
   "codemirror_mode": {
    "name": "ipython",
    "version": 3
   },
   "file_extension": ".py",
   "mimetype": "text/x-python",
   "name": "python",
   "nbconvert_exporter": "python",
   "pygments_lexer": "ipython3",
   "version": "3.12.3"
  }
 },
 "nbformat": 4,
 "nbformat_minor": 5
}
