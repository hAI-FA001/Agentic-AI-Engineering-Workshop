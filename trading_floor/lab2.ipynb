{
 "cells": [
  {
   "cell_type": "code",
   "execution_count": 1,
   "id": "dcdec848",
   "metadata": {},
   "outputs": [
    {
     "data": {
      "text/plain": [
       "True"
      ]
     },
     "execution_count": 1,
     "metadata": {},
     "output_type": "execute_result"
    }
   ],
   "source": [
    "from agents import Agent, Runner, trace, AsyncOpenAI, OpenAIChatCompletionsModel\n",
    "from agents.mcp import MCPServerStdio\n",
    "\n",
    "from dotenv import load_dotenv\n",
    "from IPython.display import display, Markdown\n",
    "\n",
    "load_dotenv(override=True)"
   ]
  },
  {
   "cell_type": "code",
   "execution_count": 4,
   "id": "e2ccd9b4",
   "metadata": {},
   "outputs": [],
   "source": [
    "from accounts import Account"
   ]
  },
  {
   "cell_type": "code",
   "execution_count": 5,
   "id": "fd3c925e",
   "metadata": {},
   "outputs": [
    {
     "data": {
      "text/plain": [
       "Account(name='ed', balance=10000.0, strategy='', holdings={}, transactions=[], portfolio_value_time_series=[])"
      ]
     },
     "execution_count": 5,
     "metadata": {},
     "output_type": "execute_result"
    }
   ],
   "source": [
    "account = Account.get('Ed')\n",
    "account"
   ]
  },
  {
   "cell_type": "code",
   "execution_count": 6,
   "id": "5867205c",
   "metadata": {},
   "outputs": [
    {
     "data": {
      "text/plain": [
       "'Completed. Latest details:\\n{\"name\": \"ed\", \"balance\": 9994.99, \"strategy\": \"\", \"holdings\": {\"AMZN\": 1}, \"transactions\": [{\"symbol\": \"AMZN\", \"quantity\": 1, \"price\": 5.01, \"timestamp\": \"2025-08-05 16:13:09\", \"rationale\": \"This bookstore website looks promising\"}], \"portfolio_value_time_series\": [[\"2025-08-05 16:13:09\", 10054.99]], \"total_portfolio_value\": 10054.99, \"total_profit_loss\": 54.98999999999978}'"
      ]
     },
     "execution_count": 6,
     "metadata": {},
     "output_type": "execute_result"
    }
   ],
   "source": [
    "account.buy_shares('AMZN', 1, 'This bookstore website looks promising')"
   ]
  },
  {
   "cell_type": "code",
   "execution_count": 7,
   "id": "efcb4667",
   "metadata": {},
   "outputs": [
    {
     "data": {
      "text/plain": [
       "'{\"name\": \"ed\", \"balance\": 9994.99, \"strategy\": \"\", \"holdings\": {\"AMZN\": 1}, \"transactions\": [{\"symbol\": \"AMZN\", \"quantity\": 1, \"price\": 5.01, \"timestamp\": \"2025-08-05 16:13:09\", \"rationale\": \"This bookstore website looks promising\"}], \"portfolio_value_time_series\": [[\"2025-08-05 16:13:09\", 10054.99], [\"2025-08-05 16:13:11\", 10015.99]], \"total_portfolio_value\": 10015.99, \"total_profit_loss\": 15.989999999999782}'"
      ]
     },
     "execution_count": 7,
     "metadata": {},
     "output_type": "execute_result"
    }
   ],
   "source": [
    "account.report()"
   ]
  },
  {
   "cell_type": "code",
   "execution_count": 8,
   "id": "93d6c452",
   "metadata": {},
   "outputs": [
    {
     "data": {
      "text/plain": [
       "[{'symbol': 'AMZN',\n",
       "  'quantity': 1,\n",
       "  'price': 5.01,\n",
       "  'timestamp': '2025-08-05 16:13:09',\n",
       "  'rationale': 'This bookstore website looks promising'}]"
      ]
     },
     "execution_count": 8,
     "metadata": {},
     "output_type": "execute_result"
    }
   ],
   "source": [
    "account.list_transactions()"
   ]
  },
  {
   "cell_type": "code",
   "execution_count": null,
   "id": "97ede77e",
   "metadata": {},
   "outputs": [],
   "source": []
  }
 ],
 "metadata": {
  "kernelspec": {
   "display_name": ".venv-linux",
   "language": "python",
   "name": "python3"
  },
  "language_info": {
   "codemirror_mode": {
    "name": "ipython",
    "version": 3
   },
   "file_extension": ".py",
   "mimetype": "text/x-python",
   "name": "python",
   "nbconvert_exporter": "python",
   "pygments_lexer": "ipython3",
   "version": "3.12.3"
  }
 },
 "nbformat": 4,
 "nbformat_minor": 5
}
