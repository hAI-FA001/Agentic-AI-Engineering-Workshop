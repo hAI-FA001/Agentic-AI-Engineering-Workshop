{
 "cells": [
  {
   "cell_type": "code",
   "execution_count": 2,
   "id": "65419ded",
   "metadata": {},
   "outputs": [
    {
     "data": {
      "text/plain": [
       "True"
      ]
     },
     "execution_count": 2,
     "metadata": {},
     "output_type": "execute_result"
    }
   ],
   "source": [
    "from agents import Agent, Runner, trace, AsyncOpenAI, OpenAIChatCompletionsModel\n",
    "from agents.mcp import MCPServerStdio\n",
    "\n",
    "from dotenv import load_dotenv\n",
    "import os\n",
    "\n",
    "from IPython.display import display, Markdown\n",
    "from datetime import datetime\n",
    "\n",
    "load_dotenv(override=True)"
   ]
  },
  {
   "cell_type": "markdown",
   "id": "367bc24f",
   "metadata": {},
   "source": [
    "# 3 MCP Servers\n",
    "To give these powers:\n",
    "- Memory\n",
    "- Internet Search\n",
    "- Live Market Data"
   ]
  },
  {
   "cell_type": "markdown",
   "id": "42b6902f",
   "metadata": {},
   "source": [
    "## Server 1 - Knowledge-Graph Based Memory"
   ]
  },
  {
   "cell_type": "code",
   "execution_count": 6,
   "id": "85367e81",
   "metadata": {},
   "outputs": [
    {
     "data": {
      "text/plain": [
       "[Tool(name='create_entities', description='Create new entities with observations and optional embeddings', inputSchema={'type': 'object', 'properties': {'entities': {'type': 'array', 'items': {'type': 'object', 'properties': {'name': {'type': 'string'}, 'entityType': {'type': 'string'}, 'observations': {'type': 'array', 'items': {'type': 'string'}}, 'embedding': {'type': 'array', 'items': {'type': 'number'}, 'description': 'Optional vector embedding for similarity search'}}, 'required': ['name', 'entityType', 'observations']}}}, 'required': ['entities']}, annotations=None),\n",
       " Tool(name='search_nodes', description='Search for entities and their relations using text or vector similarity', inputSchema={'type': 'object', 'properties': {'query': {'oneOf': [{'type': 'string', 'description': 'Text search query'}, {'type': 'array', 'items': {'type': 'number'}, 'description': 'Vector for similarity search'}]}}, 'required': ['query']}, annotations=None),\n",
       " Tool(name='read_graph', description='Get recent entities and their relations', inputSchema={'type': 'object', 'properties': {}, 'required': []}, annotations=None),\n",
       " Tool(name='create_relations', description='Create relations between entities', inputSchema={'type': 'object', 'properties': {'relations': {'type': 'array', 'items': {'type': 'object', 'properties': {'source': {'type': 'string'}, 'target': {'type': 'string'}, 'type': {'type': 'string'}}, 'required': ['source', 'target', 'type']}}}, 'required': ['relations']}, annotations=None),\n",
       " Tool(name='delete_entity', description='Delete an entity and all its associated data (observations and relations)', inputSchema={'type': 'object', 'properties': {'name': {'type': 'string', 'description': 'Name of the entity to delete'}}, 'required': ['name']}, annotations=None),\n",
       " Tool(name='delete_relation', description='Delete a specific relation between entities', inputSchema={'type': 'object', 'properties': {'source': {'type': 'string', 'description': 'Source entity name'}, 'target': {'type': 'string', 'description': 'Target entity name'}, 'type': {'type': 'string', 'description': 'Type of relation'}}, 'required': ['source', 'target', 'type']}, annotations=None)]"
      ]
     },
     "execution_count": 6,
     "metadata": {},
     "output_type": "execute_result"
    }
   ],
   "source": [
    "os.makedirs('./memory', exist_ok=True)\n",
    "\n",
    "params = {\n",
    "    \"command\": \"npx\",\n",
    "    \"args\": [\n",
    "        \"-y\",\n",
    "        \"mcp-memory-libsql\",\n",
    "    ],\n",
    "    \"env\": {\n",
    "        \"LIBSQL_URL\": \"file:./memory/ed.db\",\n",
    "    }\n",
    "}\n",
    "\n",
    "async with MCPServerStdio(params, client_session_timeout_seconds=60) as server:\n",
    "    mcp_tools = await server.list_tools()\n",
    "\n",
    "mcp_tools"
   ]
  },
  {
   "cell_type": "code",
   "execution_count": 7,
   "id": "475054d6",
   "metadata": {},
   "outputs": [],
   "source": [
    "instructions = \"You use your entity tools as a persistent memory to store and recall information about your conversation\"\n",
    "request = \"My name is Ed. I'm running a workshop live about AI Agents, and co-presenting with Jon, from the SuperDataScience podcast.\"\n",
    "\n",
    "client = AsyncOpenAI(api_key=os.environ['GEMINI_API_KEY'], base_url=os.environ['GEMINI_BASE_URL'])\n",
    "model = OpenAIChatCompletionsModel('gemini-2.5-flash', client)"
   ]
  },
  {
   "cell_type": "code",
   "execution_count": 8,
   "id": "9c370dff",
   "metadata": {},
   "outputs": [
    {
     "data": {
      "text/markdown": [
       "That sounds like a very interesting workshop, Ed! Good luck with it. I've stored this information so I can remember it for our future interactions."
      ],
      "text/plain": [
       "<IPython.core.display.Markdown object>"
      ]
     },
     "metadata": {},
     "output_type": "display_data"
    }
   ],
   "source": [
    "async with MCPServerStdio(params) as server:\n",
    "    agent = Agent(name='agent', instructions=instructions, model=model, mcp_servers=[server])\n",
    "    \n",
    "    with trace('conversation'):\n",
    "        result = await Runner.run(agent, request)\n",
    "    \n",
    "    display(Markdown(result.final_output))"
   ]
  },
  {
   "cell_type": "code",
   "execution_count": 9,
   "id": "d02eef47",
   "metadata": {},
   "outputs": [
    {
     "data": {
      "text/markdown": [
       "You are running a workshop about AI Agents and co-presenting it with Jon."
      ],
      "text/plain": [
       "<IPython.core.display.Markdown object>"
      ]
     },
     "metadata": {},
     "output_type": "display_data"
    }
   ],
   "source": [
    "question = 'My name is Ed. What do you know about me?'\n",
    "\n",
    "async with MCPServerStdio(params) as server:\n",
    "    agent = Agent(name='agent', instructions=instructions, model=model, mcp_servers=[server])\n",
    "    \n",
    "    with trace('conversation'):\n",
    "        result = await Runner.run(agent, question)\n",
    "    \n",
    "    display(Markdown(result.final_output))"
   ]
  },
  {
   "cell_type": "code",
   "execution_count": null,
   "id": "e81627cb",
   "metadata": {},
   "outputs": [],
   "source": []
  }
 ],
 "metadata": {
  "kernelspec": {
   "display_name": ".venv-linux",
   "language": "python",
   "name": "python3"
  },
  "language_info": {
   "codemirror_mode": {
    "name": "ipython",
    "version": 3
   },
   "file_extension": ".py",
   "mimetype": "text/x-python",
   "name": "python",
   "nbconvert_exporter": "python",
   "pygments_lexer": "ipython3",
   "version": "3.12.3"
  }
 },
 "nbformat": 4,
 "nbformat_minor": 5
}
